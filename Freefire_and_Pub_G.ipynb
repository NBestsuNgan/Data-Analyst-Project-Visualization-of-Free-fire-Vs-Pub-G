{
  "nbformat": 4,
  "nbformat_minor": 0,
  "metadata": {
    "colab": {
      "provenance": [],
      "collapsed_sections": [
        "tnkoOe3e6w-P",
        "ydepzp5SKKym",
        "S9YsonsbYvzB",
        "fxaFUSjvZHEp"
      ]
    },
    "kernelspec": {
      "name": "python3",
      "display_name": "Python 3"
    },
    "language_info": {
      "name": "python"
    }
  },
  "cells": [
    {
      "cell_type": "markdown",
      "source": [
        "### Freefire and Pub G visualization"
      ],
      "metadata": {
        "id": "JcdsckCTInoK"
      }
    },
    {
      "cell_type": "code",
      "execution_count": 201,
      "metadata": {
        "id": "DI8rzv7jDdqH"
      },
      "outputs": [],
      "source": [
        "import pandas as pd\n",
        "import numpy as np\n",
        "import seaborn as sns\n",
        "import matplotlib.pyplot as plt\n",
        "from sklearn.feature_extraction.text import CountVectorizer\n",
        "from sklearn.model_selection import train_test_split\n",
        "from sklearn.naive_bayes import MultinomialNB\n",
        "from sklearn.metrics import accuracy_score\n",
        "import datetime"
      ]
    },
    {
      "cell_type": "code",
      "source": [
        "#load data\n",
        "data = pd.read_excel(\"freefireandpub_g.xlsx\")\n",
        "data.info()\n",
        "data = data.dropna()\n",
        "print(data.head())"
      ],
      "metadata": {
        "colab": {
          "base_uri": "https://localhost:8080/"
        },
        "id": "tCE8t4EjDwWM",
        "outputId": "31590a67-b22b-423f-9ec4-353acfbd74df"
      },
      "execution_count": 202,
      "outputs": [
        {
          "output_type": "stream",
          "name": "stdout",
          "text": [
            "<class 'pandas.core.frame.DataFrame'>\n",
            "RangeIndex: 547 entries, 0 to 546\n",
            "Data columns (total 19 columns):\n",
            " #   Column          Non-Null Count  Dtype         \n",
            "---  ------          --------------  -----         \n",
            " 0   Created date    547 non-null    datetime64[ns]\n",
            " 1   Created time    547 non-null    datetime64[ns]\n",
            " 2   Name (Profile)  547 non-null    object        \n",
            " 3   Post ID         547 non-null    object        \n",
            " 4   Post type       547 non-null    object        \n",
            " 5   Content type    544 non-null    object        \n",
            " 6   Message         535 non-null    object        \n",
            " 7   Link to post    547 non-null    object        \n",
            " 8   Posts           547 non-null    int64         \n",
            " 9   Likes           547 non-null    int64         \n",
            " 10  Reactions       547 non-null    int64         \n",
            " 11  Comments        547 non-null    int64         \n",
            " 12  Post shares     530 non-null    float64       \n",
            " 13  Likes per post  547 non-null    int64         \n",
            " 14  WEEKNUM         547 non-null    int64         \n",
            " 15  HOUR            547 non-null    int64         \n",
            " 16  PROMOTION       547 non-null    int64         \n",
            " 17  Only Reactions  547 non-null    int64         \n",
            " 18  WDAY            547 non-null    int64         \n",
            "dtypes: datetime64[ns](2), float64(1), int64(10), object(6)\n",
            "memory usage: 81.3+ KB\n",
            "  Created date        Created time    Name (Profile)  \\\n",
            "0   2021-10-01 2021-10-01 13:00:04  Garena Free Fire   \n",
            "1   2021-10-01 2021-10-01 15:00:42  Garena Free Fire   \n",
            "2   2021-10-01 2021-10-01 20:00:04  Garena Free Fire   \n",
            "3   2021-10-02 2021-10-02 15:00:43  Garena Free Fire   \n",
            "4   2021-10-03 2021-10-03 08:00:01  Garena Free Fire   \n",
            "\n",
            "                            Post ID     Post type  Content type  \\\n",
            "0  740460599475760_1905181179670357   added_video  video_inline   \n",
            "1  740460599475760_1905065849681890  added_photos         photo   \n",
            "2  740460599475760_1905729416282200  added_photos         photo   \n",
            "3  740460599475760_1905068203014988  added_photos         photo   \n",
            "4  740460599475760_1905939169594558  added_photos         photo   \n",
            "\n",
            "                                             Message  \\\n",
            "0  [VDO] แอนิเมชัน สมรภูมิใหม่เต็ม MAX\\nต้อนรับ F...   \n",
            "1  ⏳วันนี้ 1 ทุ่มตรง⏳\\nรับชมการแข่งขันรอบ Regular...   \n",
            "2  [FFMAX] ปลดล็อกรางวัลตามขั้น 🌡\\nชวนเพื่อน พ่อ ...   \n",
            "3  ⏳วันนี้ 1 ทุ่มตรง⏳\\nรับชมการแข่งขันรอบ Regular...   \n",
            "4  TOP-UP ตุลารับชุดสุดคุ้ม 🔥\\nเติม 💎 ปั๊บ รับชุด...   \n",
            "\n",
            "                                        Link to post  Posts  Likes  Reactions  \\\n",
            "0  https://www.facebook.com/740460599475760/posts...      1   1218       1390   \n",
            "1  https://www.facebook.com/740460599475760/posts...      1    284        291   \n",
            "2  https://www.facebook.com/740460599475760/posts...      1   1345       1368   \n",
            "3  https://www.facebook.com/740460599475760/posts...      1    256        271   \n",
            "4  https://www.facebook.com/740460599475760/posts...      1   1552       1630   \n",
            "\n",
            "   Comments  Post shares  Likes per post  WEEKNUM  HOUR  PROMOTION  \\\n",
            "0       137         56.0            1218       40    13          0   \n",
            "1        14         14.0             284       40    15          0   \n",
            "2        87         21.0            1345       40    20          0   \n",
            "3        41         10.0             256       40    15          0   \n",
            "4       331         54.0            1552       41     8          1   \n",
            "\n",
            "   Only Reactions  WDAY  \n",
            "0             172     5  \n",
            "1               7     5  \n",
            "2              23     5  \n",
            "3              15     6  \n",
            "4              78     7  \n"
          ]
        }
      ]
    },
    {
      "cell_type": "markdown",
      "source": [
        "### Define problem\n",
        "1.   Which game is popular, which type of post get *the* like or engagement.\n",
        "2.   Which post that people like the post.(Top 5)\n",
        "3.   What time that the page is like to post.\n",
        "4.   Are people read, like, share the post that have long text. \n",
        "5.   Relationship between like Vs post share.\n",
        "6.   Classify page content => promotion or not\n",
        "7.   Weekly and monthly data(trend)\n"
      ],
      "metadata": {
        "id": "pvuPcLjaH3QI"
      }
    },
    {
      "cell_type": "markdown",
      "source": [
        "### 1. Which game is popular, which type of post get *the* like or engagement.\n",
        "\n",
        "\n"
      ],
      "metadata": {
        "id": "LtaygB7dbtCJ"
      }
    },
    {
      "cell_type": "code",
      "source": [
        "freefire_sum = data[['Likes','Post shares','Comments','Reactions']][data['Name (Profile)'] == 'Garena Free Fire'].sum(axis=0) \n",
        "freefire_mean = data[['Likes','Post shares','Comments','Reactions']][data['Name (Profile)'] == 'Garena Free Fire'].mean(axis=0) \n",
        "pubg_sum = data[['Likes','Post shares','Comments','Reactions']][data['Name (Profile)'] == 'PUBG: BATTLEGROUNDS'].sum(axis=0)\n",
        "pubg_mean = data[['Likes','Post shares','Comments','Reactions']][data['Name (Profile)'] == 'PUBG: BATTLEGROUNDS'].mean(axis=0)\n",
        "print(f\"Sum of freefire\\n {freefire_sum}\\n\\nAverage of freefire\\n {freefire_mean}\\n\\nSum of pub g\\n {pubg_sum}\\n\\nAverage of pub g\\n {pubg_mean}\\n\")"
      ],
      "metadata": {
        "colab": {
          "base_uri": "https://localhost:8080/"
        },
        "id": "A30TfLAiHo_g",
        "outputId": "30c489c6-b9e9-4b6d-c763-2d9b5174079e"
      },
      "execution_count": 203,
      "outputs": [
        {
          "output_type": "stream",
          "name": "stdout",
          "text": [
            "Sum of freefire\n",
            " Likes          1013185.0\n",
            "Post shares      34893.0\n",
            "Comments         72768.0\n",
            "Reactions      1161397.0\n",
            "dtype: float64\n",
            "\n",
            "Average of freefire\n",
            " Likes          3518.003472\n",
            "Post shares     121.156250\n",
            "Comments        252.666667\n",
            "Reactions      4032.628472\n",
            "dtype: float64\n",
            "\n",
            "Sum of pub g\n",
            " Likes          248134.0\n",
            "Post shares     14300.0\n",
            "Comments         8320.0\n",
            "Reactions      261237.0\n",
            "dtype: float64\n",
            "\n",
            "Average of pub g\n",
            " Likes          1074.173160\n",
            "Post shares      61.904762\n",
            "Comments         36.017316\n",
            "Reactions      1130.896104\n",
            "dtype: float64\n",
            "\n"
          ]
        }
      ]
    },
    {
      "cell_type": "code",
      "source": [
        "#Engagement\n",
        "print(f\"So the Engagement of Freefire is {freefire_sum.sum(0)} and Pub_G is {pubg_sum.sum(0)}. Now we can see that is freefire popular more than pubg?\")"
      ],
      "metadata": {
        "colab": {
          "base_uri": "https://localhost:8080/"
        },
        "id": "A01Xw830Nnv6",
        "outputId": "9efedb80-ff7b-4238-84c6-e7bedf1a1ab9"
      },
      "execution_count": 204,
      "outputs": [
        {
          "output_type": "stream",
          "name": "stdout",
          "text": [
            "So the Engagement of Freefire is 2282243.0 and Pub_G is 531991.0. Now we can see that is freefire popular more than pubg?\n"
          ]
        }
      ]
    },
    {
      "cell_type": "markdown",
      "source": [
        "### 2. Which post that people like the post.(Top 5)"
      ],
      "metadata": {
        "id": "tnkoOe3e6w-P"
      }
    },
    {
      "cell_type": "code",
      "source": [
        "data[['Name (Profile)','Message','Content type','Post shares']].sort_values('Post shares',ascending=False).head(5)"
      ],
      "metadata": {
        "colab": {
          "base_uri": "https://localhost:8080/",
          "height": 206
        },
        "id": "Y4KmsD3T62R9",
        "outputId": "0057ab91-70da-4c78-d70e-128fbb01aa20"
      },
      "execution_count": 206,
      "outputs": [
        {
          "output_type": "execute_result",
          "data": {
            "text/plain": [
              "       Name (Profile)                                            Message  \\\n",
              "114  Garena Free Fire  ปองกนไวกอนกบบญชของ facebook \\nชวงนมเรองของ fac...   \n",
              "218  Garena Free Fire  รวมไอเทมโดนใจ สงทาย booyah day \\n4 วนรวด ทจดไอ...   \n",
              "165  Garena Free Fire  โปรเดด free fire 1111 \\nจดหนก จดเตมกบของเดดไมซ...   \n",
              "63   Garena Free Fire  โหมดใหม  ทจะมาสรางความเราใจ \\nลนระทกทกฝกาว \\nเ...   \n",
              "220  Garena Free Fire  อปเดตแพทซใหม บาลานซกวาเดม \\nเตรยมปรบตวกนไวใหด ...   \n",
              "\n",
              "    Content type  Post shares  \n",
              "114        album       2895.0  \n",
              "218        photo       2666.0  \n",
              "165        photo       2028.0  \n",
              "63         photo       1884.0  \n",
              "220        album       1129.0  "
            ],
            "text/html": [
              "\n",
              "  <div id=\"df-815d56f3-d5cb-4ab1-97eb-447e6fc1e4c1\">\n",
              "    <div class=\"colab-df-container\">\n",
              "      <div>\n",
              "<style scoped>\n",
              "    .dataframe tbody tr th:only-of-type {\n",
              "        vertical-align: middle;\n",
              "    }\n",
              "\n",
              "    .dataframe tbody tr th {\n",
              "        vertical-align: top;\n",
              "    }\n",
              "\n",
              "    .dataframe thead th {\n",
              "        text-align: right;\n",
              "    }\n",
              "</style>\n",
              "<table border=\"1\" class=\"dataframe\">\n",
              "  <thead>\n",
              "    <tr style=\"text-align: right;\">\n",
              "      <th></th>\n",
              "      <th>Name (Profile)</th>\n",
              "      <th>Message</th>\n",
              "      <th>Content type</th>\n",
              "      <th>Post shares</th>\n",
              "    </tr>\n",
              "  </thead>\n",
              "  <tbody>\n",
              "    <tr>\n",
              "      <th>114</th>\n",
              "      <td>Garena Free Fire</td>\n",
              "      <td>ปองกนไวกอนกบบญชของ facebook \\nชวงนมเรองของ fac...</td>\n",
              "      <td>album</td>\n",
              "      <td>2895.0</td>\n",
              "    </tr>\n",
              "    <tr>\n",
              "      <th>218</th>\n",
              "      <td>Garena Free Fire</td>\n",
              "      <td>รวมไอเทมโดนใจ สงทาย booyah day \\n4 วนรวด ทจดไอ...</td>\n",
              "      <td>photo</td>\n",
              "      <td>2666.0</td>\n",
              "    </tr>\n",
              "    <tr>\n",
              "      <th>165</th>\n",
              "      <td>Garena Free Fire</td>\n",
              "      <td>โปรเดด free fire 1111 \\nจดหนก จดเตมกบของเดดไมซ...</td>\n",
              "      <td>photo</td>\n",
              "      <td>2028.0</td>\n",
              "    </tr>\n",
              "    <tr>\n",
              "      <th>63</th>\n",
              "      <td>Garena Free Fire</td>\n",
              "      <td>โหมดใหม  ทจะมาสรางความเราใจ \\nลนระทกทกฝกาว \\nเ...</td>\n",
              "      <td>photo</td>\n",
              "      <td>1884.0</td>\n",
              "    </tr>\n",
              "    <tr>\n",
              "      <th>220</th>\n",
              "      <td>Garena Free Fire</td>\n",
              "      <td>อปเดตแพทซใหม บาลานซกวาเดม \\nเตรยมปรบตวกนไวใหด ...</td>\n",
              "      <td>album</td>\n",
              "      <td>1129.0</td>\n",
              "    </tr>\n",
              "  </tbody>\n",
              "</table>\n",
              "</div>\n",
              "      <button class=\"colab-df-convert\" onclick=\"convertToInteractive('df-815d56f3-d5cb-4ab1-97eb-447e6fc1e4c1')\"\n",
              "              title=\"Convert this dataframe to an interactive table.\"\n",
              "              style=\"display:none;\">\n",
              "        \n",
              "  <svg xmlns=\"http://www.w3.org/2000/svg\" height=\"24px\"viewBox=\"0 0 24 24\"\n",
              "       width=\"24px\">\n",
              "    <path d=\"M0 0h24v24H0V0z\" fill=\"none\"/>\n",
              "    <path d=\"M18.56 5.44l.94 2.06.94-2.06 2.06-.94-2.06-.94-.94-2.06-.94 2.06-2.06.94zm-11 1L8.5 8.5l.94-2.06 2.06-.94-2.06-.94L8.5 2.5l-.94 2.06-2.06.94zm10 10l.94 2.06.94-2.06 2.06-.94-2.06-.94-.94-2.06-.94 2.06-2.06.94z\"/><path d=\"M17.41 7.96l-1.37-1.37c-.4-.4-.92-.59-1.43-.59-.52 0-1.04.2-1.43.59L10.3 9.45l-7.72 7.72c-.78.78-.78 2.05 0 2.83L4 21.41c.39.39.9.59 1.41.59.51 0 1.02-.2 1.41-.59l7.78-7.78 2.81-2.81c.8-.78.8-2.07 0-2.86zM5.41 20L4 18.59l7.72-7.72 1.47 1.35L5.41 20z\"/>\n",
              "  </svg>\n",
              "      </button>\n",
              "      \n",
              "  <style>\n",
              "    .colab-df-container {\n",
              "      display:flex;\n",
              "      flex-wrap:wrap;\n",
              "      gap: 12px;\n",
              "    }\n",
              "\n",
              "    .colab-df-convert {\n",
              "      background-color: #E8F0FE;\n",
              "      border: none;\n",
              "      border-radius: 50%;\n",
              "      cursor: pointer;\n",
              "      display: none;\n",
              "      fill: #1967D2;\n",
              "      height: 32px;\n",
              "      padding: 0 0 0 0;\n",
              "      width: 32px;\n",
              "    }\n",
              "\n",
              "    .colab-df-convert:hover {\n",
              "      background-color: #E2EBFA;\n",
              "      box-shadow: 0px 1px 2px rgba(60, 64, 67, 0.3), 0px 1px 3px 1px rgba(60, 64, 67, 0.15);\n",
              "      fill: #174EA6;\n",
              "    }\n",
              "\n",
              "    [theme=dark] .colab-df-convert {\n",
              "      background-color: #3B4455;\n",
              "      fill: #D2E3FC;\n",
              "    }\n",
              "\n",
              "    [theme=dark] .colab-df-convert:hover {\n",
              "      background-color: #434B5C;\n",
              "      box-shadow: 0px 1px 3px 1px rgba(0, 0, 0, 0.15);\n",
              "      filter: drop-shadow(0px 1px 2px rgba(0, 0, 0, 0.3));\n",
              "      fill: #FFFFFF;\n",
              "    }\n",
              "  </style>\n",
              "\n",
              "      <script>\n",
              "        const buttonEl =\n",
              "          document.querySelector('#df-815d56f3-d5cb-4ab1-97eb-447e6fc1e4c1 button.colab-df-convert');\n",
              "        buttonEl.style.display =\n",
              "          google.colab.kernel.accessAllowed ? 'block' : 'none';\n",
              "\n",
              "        async function convertToInteractive(key) {\n",
              "          const element = document.querySelector('#df-815d56f3-d5cb-4ab1-97eb-447e6fc1e4c1');\n",
              "          const dataTable =\n",
              "            await google.colab.kernel.invokeFunction('convertToInteractive',\n",
              "                                                     [key], {});\n",
              "          if (!dataTable) return;\n",
              "\n",
              "          const docLinkHtml = 'Like what you see? Visit the ' +\n",
              "            '<a target=\"_blank\" href=https://colab.research.google.com/notebooks/data_table.ipynb>data table notebook</a>'\n",
              "            + ' to learn more about interactive tables.';\n",
              "          element.innerHTML = '';\n",
              "          dataTable['output_type'] = 'display_data';\n",
              "          await google.colab.output.renderOutput(dataTable, element);\n",
              "          const docLink = document.createElement('div');\n",
              "          docLink.innerHTML = docLinkHtml;\n",
              "          element.appendChild(docLink);\n",
              "        }\n",
              "      </script>\n",
              "    </div>\n",
              "  </div>\n",
              "  "
            ]
          },
          "metadata": {},
          "execution_count": 206
        }
      ]
    },
    {
      "cell_type": "markdown",
      "source": [
        "### 3. What time that the page is like to post."
      ],
      "metadata": {
        "id": "YmibdRZl8c_g"
      }
    },
    {
      "cell_type": "code",
      "source": [
        "d = pd.to_datetime(data['Created time']).dt.time.reset_index()\n",
        "d = d['Created time'].value_counts().to_frame().reset_index()\n",
        "times = d['index']\n",
        "hours = times.apply(lambda x: x.hour)\n",
        "minutes = times.apply(lambda x: x.minute)\n",
        "time_floats = hours + minutes/60\n",
        "\n",
        "plt.scatter(time_floats,d['Created time'])\n",
        "plt.xlabel('date')\n",
        "plt.ylabel('count')\n",
        "plt.show\n",
        "print(f\"The graph shows that Facebook page post most frequently at 3:00 p.m., followed by 8:00, 13:00, and 20:00,\\n which correspond to people's free times, such as before work, at lunch, or after work, etc.\")\n",
        "\n",
        "d = pd.to_datetime(data['Created time'][data[\"PROMOTION\"] == 1]).dt.time.reset_index()\n",
        "d = d['Created time'].value_counts().to_frame().reset_index()\n",
        "times = d['index']\n",
        "hours = times.apply(lambda x: x.hour)\n",
        "minutes = times.apply(lambda x: x.minute)\n",
        "time_floats = hours + minutes/60\n",
        "\n",
        "plt.scatter(time_floats,d['Created time'])\n",
        "plt.title(\"Frequency Posts on 8 am to 10 pm\")\n",
        "plt.xlabel('Time')\n",
        "plt.ylabel('Number of posts')\n",
        "plt.show\n",
        "print(f\"the yellow point show that the 'PROMOTION' is post in interval time\")"
      ],
      "metadata": {
        "colab": {
          "base_uri": "https://localhost:8080/",
          "height": 350
        },
        "id": "N6lpTvuh8nju",
        "outputId": "86395f9c-c84f-46cb-8d20-9561058f9a5d"
      },
      "execution_count": 239,
      "outputs": [
        {
          "output_type": "stream",
          "name": "stdout",
          "text": [
            "The graph shows that Facebook page post most frequently at 3:00 p.m., followed by 8:00, 13:00, and 20:00,\n",
            " which correspond to people's free times, such as before work, at lunch, or after work, etc.\n",
            "the yellow point show that the 'PROMOTION' is post in interval time\n"
          ]
        },
        {
          "output_type": "display_data",
          "data": {
            "text/plain": [
              "<Figure size 432x288 with 1 Axes>"
            ],
            "image/png": "[encoded data removed]"
          },
          "metadata": {
            "needs_background": "light"
          }
        }
      ]
    },
    {
      "cell_type": "markdown",
      "source": [
        "### 4. Are people read, like, share the post that have long text."
      ],
      "metadata": {
        "id": "ydepzp5SKKym"
      }
    },
    {
      "cell_type": "code",
      "source": [
        "data['long'] = data['Message'].str.len()\n",
        "data['engage'] = data['Likes']+data['Post shares']+data['Comments']+data['Reactions']\n",
        "engage = data[['Name (Profile)','Message','long','Content type','Likes','Post shares','Comments','Reactions','engage']].sort_values('long',ascending=False)\n",
        "print(f\"Again that the data analyze help has to know the insight from data.\\nWe can see that the long text post in not gain interest from people,\\nIn the otherhand less text information with video or photo has more interest than long text post \")\n",
        "engage"
      ],
      "metadata": {
        "colab": {
          "base_uri": "https://localhost:8080/",
          "height": 478
        },
        "id": "70g7L7k3KOFH",
        "outputId": "82424452-b2d4-48aa-cd31-d8c2a099ab46"
      },
      "execution_count": 208,
      "outputs": [
        {
          "output_type": "stream",
          "name": "stdout",
          "text": [
            "Again that the data analyze help has to know the insight from data.\n",
            "We can see that the long text post in not gain interest from people,\n",
            "In the otherhand less text information with video or photo has more interest than long text post \n"
          ]
        },
        {
          "output_type": "execute_result",
          "data": {
            "text/plain": [
              "          Name (Profile)                                            Message  \\\n",
              "469  PUBG: BATTLEGROUNDS  pgc2021 playbook ep1 ยอนดแผนการเลนของ oath ในเ...   \n",
              "433  PUBG: BATTLEGROUNDS  pgc moments 1 รวมชอทเฟยวปนลนทง จากการแขงขนพบจช...   \n",
              "447  PUBG: BATTLEGROUNDS  pgc2021 ศกพบจชงแชมปโลก รวมพล 32 ทมทดทสดในโลก ช...   \n",
              "453  PUBG: BATTLEGROUNDS  pgc2021 rivals ep1 คมเฉอนคมนอกจอ เมอ pio vs tg...   \n",
              "458  PUBG: BATTLEGROUNDS  อพเดทการแขงขนพบจชงแชมปโลก ในรายการ weekly pgc2...   \n",
              "..                   ...                                                ...   \n",
              "7       Garena Free Fire  animation จากโรงงานราง สสมรภม\\nเอาชวตรอดและชงค...   \n",
              "242     Garena Free Fire  survivals master winter \\nเสนทางสโปรลกกำลงจะเร...   \n",
              "418  PUBG: BATTLEGROUNDS  𝐏𝐆𝐂𝟐𝟎𝟐𝟏 𝐒𝐂𝐎𝐏𝐄 พาบกกองงาน media day อยางหลออยาง...   \n",
              "156     Garena Free Fire  free fire showoff ซอมกบโปร  kog และ syz ตวแทนป...   \n",
              "172     Garena Free Fire           free fire show off special  mew x earena   \n",
              "\n",
              "     long  Content type  Likes  Post shares  Comments  Reactions  engage  \n",
              "469  1765  video_inline    128          3.0         2        129   262.0  \n",
              "433  1738  video_inline    438         16.0         3        451   908.0  \n",
              "447  1606  video_inline    562         31.0         1        572  1166.0  \n",
              "453  1535  video_inline    186         10.0         0        190   386.0  \n",
              "458  1529  video_inline    133          7.0         0        135   275.0  \n",
              "..    ...           ...    ...          ...       ...        ...     ...  \n",
              "7      81         video   1969         90.0       158       2168  4385.0  \n",
              "242    75         photo    697        111.0        40        733  1581.0  \n",
              "418    71         share    224          3.0         1        227   455.0  \n",
              "156    66  video_inline    925         59.0       240       1080  2304.0  \n",
              "172    40  video_inline   1238        243.0      1427       1984  4892.0  \n",
              "\n",
              "[519 rows x 9 columns]"
            ],
            "text/html": [
              "\n",
              "  <div id=\"df-db411a6d-4bd7-4bf7-b574-aeec6237f2b6\">\n",
              "    <div class=\"colab-df-container\">\n",
              "      <div>\n",
              "<style scoped>\n",
              "    .dataframe tbody tr th:only-of-type {\n",
              "        vertical-align: middle;\n",
              "    }\n",
              "\n",
              "    .dataframe tbody tr th {\n",
              "        vertical-align: top;\n",
              "    }\n",
              "\n",
              "    .dataframe thead th {\n",
              "        text-align: right;\n",
              "    }\n",
              "</style>\n",
              "<table border=\"1\" class=\"dataframe\">\n",
              "  <thead>\n",
              "    <tr style=\"text-align: right;\">\n",
              "      <th></th>\n",
              "      <th>Name (Profile)</th>\n",
              "      <th>Message</th>\n",
              "      <th>long</th>\n",
              "      <th>Content type</th>\n",
              "      <th>Likes</th>\n",
              "      <th>Post shares</th>\n",
              "      <th>Comments</th>\n",
              "      <th>Reactions</th>\n",
              "      <th>engage</th>\n",
              "    </tr>\n",
              "  </thead>\n",
              "  <tbody>\n",
              "    <tr>\n",
              "      <th>469</th>\n",
              "      <td>PUBG: BATTLEGROUNDS</td>\n",
              "      <td>pgc2021 playbook ep1 ยอนดแผนการเลนของ oath ในเ...</td>\n",
              "      <td>1765</td>\n",
              "      <td>video_inline</td>\n",
              "      <td>128</td>\n",
              "      <td>3.0</td>\n",
              "      <td>2</td>\n",
              "      <td>129</td>\n",
              "      <td>262.0</td>\n",
              "    </tr>\n",
              "    <tr>\n",
              "      <th>433</th>\n",
              "      <td>PUBG: BATTLEGROUNDS</td>\n",
              "      <td>pgc moments 1 รวมชอทเฟยวปนลนทง จากการแขงขนพบจช...</td>\n",
              "      <td>1738</td>\n",
              "      <td>video_inline</td>\n",
              "      <td>438</td>\n",
              "      <td>16.0</td>\n",
              "      <td>3</td>\n",
              "      <td>451</td>\n",
              "      <td>908.0</td>\n",
              "    </tr>\n",
              "    <tr>\n",
              "      <th>447</th>\n",
              "      <td>PUBG: BATTLEGROUNDS</td>\n",
              "      <td>pgc2021 ศกพบจชงแชมปโลก รวมพล 32 ทมทดทสดในโลก ช...</td>\n",
              "      <td>1606</td>\n",
              "      <td>video_inline</td>\n",
              "      <td>562</td>\n",
              "      <td>31.0</td>\n",
              "      <td>1</td>\n",
              "      <td>572</td>\n",
              "      <td>1166.0</td>\n",
              "    </tr>\n",
              "    <tr>\n",
              "      <th>453</th>\n",
              "      <td>PUBG: BATTLEGROUNDS</td>\n",
              "      <td>pgc2021 rivals ep1 คมเฉอนคมนอกจอ เมอ pio vs tg...</td>\n",
              "      <td>1535</td>\n",
              "      <td>video_inline</td>\n",
              "      <td>186</td>\n",
              "      <td>10.0</td>\n",
              "      <td>0</td>\n",
              "      <td>190</td>\n",
              "      <td>386.0</td>\n",
              "    </tr>\n",
              "    <tr>\n",
              "      <th>458</th>\n",
              "      <td>PUBG: BATTLEGROUNDS</td>\n",
              "      <td>อพเดทการแขงขนพบจชงแชมปโลก ในรายการ weekly pgc2...</td>\n",
              "      <td>1529</td>\n",
              "      <td>video_inline</td>\n",
              "      <td>133</td>\n",
              "      <td>7.0</td>\n",
              "      <td>0</td>\n",
              "      <td>135</td>\n",
              "      <td>275.0</td>\n",
              "    </tr>\n",
              "    <tr>\n",
              "      <th>...</th>\n",
              "      <td>...</td>\n",
              "      <td>...</td>\n",
              "      <td>...</td>\n",
              "      <td>...</td>\n",
              "      <td>...</td>\n",
              "      <td>...</td>\n",
              "      <td>...</td>\n",
              "      <td>...</td>\n",
              "      <td>...</td>\n",
              "    </tr>\n",
              "    <tr>\n",
              "      <th>7</th>\n",
              "      <td>Garena Free Fire</td>\n",
              "      <td>animation จากโรงงานราง สสมรภม\\nเอาชวตรอดและชงค...</td>\n",
              "      <td>81</td>\n",
              "      <td>video</td>\n",
              "      <td>1969</td>\n",
              "      <td>90.0</td>\n",
              "      <td>158</td>\n",
              "      <td>2168</td>\n",
              "      <td>4385.0</td>\n",
              "    </tr>\n",
              "    <tr>\n",
              "      <th>242</th>\n",
              "      <td>Garena Free Fire</td>\n",
              "      <td>survivals master winter \\nเสนทางสโปรลกกำลงจะเร...</td>\n",
              "      <td>75</td>\n",
              "      <td>photo</td>\n",
              "      <td>697</td>\n",
              "      <td>111.0</td>\n",
              "      <td>40</td>\n",
              "      <td>733</td>\n",
              "      <td>1581.0</td>\n",
              "    </tr>\n",
              "    <tr>\n",
              "      <th>418</th>\n",
              "      <td>PUBG: BATTLEGROUNDS</td>\n",
              "      <td>𝐏𝐆𝐂𝟐𝟎𝟐𝟏 𝐒𝐂𝐎𝐏𝐄 พาบกกองงาน media day อยางหลออยาง...</td>\n",
              "      <td>71</td>\n",
              "      <td>share</td>\n",
              "      <td>224</td>\n",
              "      <td>3.0</td>\n",
              "      <td>1</td>\n",
              "      <td>227</td>\n",
              "      <td>455.0</td>\n",
              "    </tr>\n",
              "    <tr>\n",
              "      <th>156</th>\n",
              "      <td>Garena Free Fire</td>\n",
              "      <td>free fire showoff ซอมกบโปร  kog และ syz ตวแทนป...</td>\n",
              "      <td>66</td>\n",
              "      <td>video_inline</td>\n",
              "      <td>925</td>\n",
              "      <td>59.0</td>\n",
              "      <td>240</td>\n",
              "      <td>1080</td>\n",
              "      <td>2304.0</td>\n",
              "    </tr>\n",
              "    <tr>\n",
              "      <th>172</th>\n",
              "      <td>Garena Free Fire</td>\n",
              "      <td>free fire show off special  mew x earena</td>\n",
              "      <td>40</td>\n",
              "      <td>video_inline</td>\n",
              "      <td>1238</td>\n",
              "      <td>243.0</td>\n",
              "      <td>1427</td>\n",
              "      <td>1984</td>\n",
              "      <td>4892.0</td>\n",
              "    </tr>\n",
              "  </tbody>\n",
              "</table>\n",
              "<p>519 rows × 9 columns</p>\n",
              "</div>\n",
              "      <button class=\"colab-df-convert\" onclick=\"convertToInteractive('df-db411a6d-4bd7-4bf7-b574-aeec6237f2b6')\"\n",
              "              title=\"Convert this dataframe to an interactive table.\"\n",
              "              style=\"display:none;\">\n",
              "        \n",
              "  <svg xmlns=\"http://www.w3.org/2000/svg\" height=\"24px\"viewBox=\"0 0 24 24\"\n",
              "       width=\"24px\">\n",
              "    <path d=\"M0 0h24v24H0V0z\" fill=\"none\"/>\n",
              "    <path d=\"M18.56 5.44l.94 2.06.94-2.06 2.06-.94-2.06-.94-.94-2.06-.94 2.06-2.06.94zm-11 1L8.5 8.5l.94-2.06 2.06-.94-2.06-.94L8.5 2.5l-.94 2.06-2.06.94zm10 10l.94 2.06.94-2.06 2.06-.94-2.06-.94-.94-2.06-.94 2.06-2.06.94z\"/><path d=\"M17.41 7.96l-1.37-1.37c-.4-.4-.92-.59-1.43-.59-.52 0-1.04.2-1.43.59L10.3 9.45l-7.72 7.72c-.78.78-.78 2.05 0 2.83L4 21.41c.39.39.9.59 1.41.59.51 0 1.02-.2 1.41-.59l7.78-7.78 2.81-2.81c.8-.78.8-2.07 0-2.86zM5.41 20L4 18.59l7.72-7.72 1.47 1.35L5.41 20z\"/>\n",
              "  </svg>\n",
              "      </button>\n",
              "      \n",
              "  <style>\n",
              "    .colab-df-container {\n",
              "      display:flex;\n",
              "      flex-wrap:wrap;\n",
              "      gap: 12px;\n",
              "    }\n",
              "\n",
              "    .colab-df-convert {\n",
              "      background-color: #E8F0FE;\n",
              "      border: none;\n",
              "      border-radius: 50%;\n",
              "      cursor: pointer;\n",
              "      display: none;\n",
              "      fill: #1967D2;\n",
              "      height: 32px;\n",
              "      padding: 0 0 0 0;\n",
              "      width: 32px;\n",
              "    }\n",
              "\n",
              "    .colab-df-convert:hover {\n",
              "      background-color: #E2EBFA;\n",
              "      box-shadow: 0px 1px 2px rgba(60, 64, 67, 0.3), 0px 1px 3px 1px rgba(60, 64, 67, 0.15);\n",
              "      fill: #174EA6;\n",
              "    }\n",
              "\n",
              "    [theme=dark] .colab-df-convert {\n",
              "      background-color: #3B4455;\n",
              "      fill: #D2E3FC;\n",
              "    }\n",
              "\n",
              "    [theme=dark] .colab-df-convert:hover {\n",
              "      background-color: #434B5C;\n",
              "      box-shadow: 0px 1px 3px 1px rgba(0, 0, 0, 0.15);\n",
              "      filter: drop-shadow(0px 1px 2px rgba(0, 0, 0, 0.3));\n",
              "      fill: #FFFFFF;\n",
              "    }\n",
              "  </style>\n",
              "\n",
              "      <script>\n",
              "        const buttonEl =\n",
              "          document.querySelector('#df-db411a6d-4bd7-4bf7-b574-aeec6237f2b6 button.colab-df-convert');\n",
              "        buttonEl.style.display =\n",
              "          google.colab.kernel.accessAllowed ? 'block' : 'none';\n",
              "\n",
              "        async function convertToInteractive(key) {\n",
              "          const element = document.querySelector('#df-db411a6d-4bd7-4bf7-b574-aeec6237f2b6');\n",
              "          const dataTable =\n",
              "            await google.colab.kernel.invokeFunction('convertToInteractive',\n",
              "                                                     [key], {});\n",
              "          if (!dataTable) return;\n",
              "\n",
              "          const docLinkHtml = 'Like what you see? Visit the ' +\n",
              "            '<a target=\"_blank\" href=https://colab.research.google.com/notebooks/data_table.ipynb>data table notebook</a>'\n",
              "            + ' to learn more about interactive tables.';\n",
              "          element.innerHTML = '';\n",
              "          dataTable['output_type'] = 'display_data';\n",
              "          await google.colab.output.renderOutput(dataTable, element);\n",
              "          const docLink = document.createElement('div');\n",
              "          docLink.innerHTML = docLinkHtml;\n",
              "          element.appendChild(docLink);\n",
              "        }\n",
              "      </script>\n",
              "    </div>\n",
              "  </div>\n",
              "  "
            ]
          },
          "metadata": {},
          "execution_count": 208
        }
      ]
    },
    {
      "cell_type": "markdown",
      "source": [
        "### 5. Relationship between like Vs post share."
      ],
      "metadata": {
        "id": "S9YsonsbYvzB"
      }
    },
    {
      "cell_type": "code",
      "source": [
        "plt.scatter(data['Likes'],data['Post shares'])\n",
        "plt.xticks(rotation=45)\n",
        "plt.title(\"Likes and Posts shares\")\n",
        "plt.xlabel('Likes')\n",
        "plt.ylabel('Post shares')\n",
        "plt.show\n",
        "print(f\"correlation between Post shares and Likes\\n {data[['Likes','Post shares']].corr()}\")"
      ],
      "metadata": {
        "colab": {
          "base_uri": "https://localhost:8080/",
          "height": 388
        },
        "id": "iQwGfHS4LtbC",
        "outputId": "22cf42a5-4d0f-4003-dcb4-c3a43e74817f"
      },
      "execution_count": 237,
      "outputs": [
        {
          "output_type": "stream",
          "name": "stdout",
          "text": [
            "correlation between Post shares and Likes\n",
            "                 Likes  Post shares\n",
            "Likes        1.000000     0.344208\n",
            "Post shares  0.344208     1.000000\n"
          ]
        },
        {
          "output_type": "display_data",
          "data": {
            "text/plain": [
              "<Figure size 432x288 with 1 Axes>"
            ],
            "image/png": "[encoded data removed]"
          },
          "metadata": {
            "needs_background": "light"
          }
        }
      ]
    },
    {
      "cell_type": "markdown",
      "source": [
        "### 6.Classify page content => promotion or not"
      ],
      "metadata": {
        "id": "fxaFUSjvZHEp"
      }
    },
    {
      "cell_type": "code",
      "source": [
        "# let try some text classification\n",
        "df = data\n",
        "df['Message'] = df['Message'].str.replace('[^\\w\\s]','')\n",
        "df['Message'] = df['Message'].str.lower()\n",
        "df['Message'] = df['Message'].str.strip()\n",
        "\n",
        "#print(df['Message'].count())\n",
        "\n",
        "X_train, X_test, y_train, y_test = train_test_split(df['Message'], df['PROMOTION'], test_size=0.3, random_state=42)\n",
        "\n",
        "# Convert the text data into numerical features using CountVectorizer\n",
        "vectorizer = CountVectorizer()\n",
        "X_train_vectors = vectorizer.fit_transform(X_train)\n",
        "X_test_vectors = vectorizer.transform(X_test)\n",
        "\n",
        "# Train a Naive Bayes classifier on the training data\n",
        "clf = MultinomialNB()\n",
        "clf.fit(X_train_vectors, y_train)\n",
        "\n",
        "# Make predictions on the test data\n",
        "y_pred = clf.predict(X_test_vectors)\n",
        "\n",
        "# Calculate the accuracy of the classifier\n",
        "accuracy = accuracy_score(y_test, y_pred)\n",
        "print(f\"Accuracy : {round(accuracy*100,2)} %\")\n",
        "print(\"Anyway this model can't be trusted because the data is not balance for use in modeling.\")"
      ],
      "metadata": {
        "colab": {
          "base_uri": "https://localhost:8080/"
        },
        "id": "VSbpFXOLZMtN",
        "outputId": "38bff0c6-5ca2-473f-bbbf-f2f11c22bee5"
      },
      "execution_count": 222,
      "outputs": [
        {
          "output_type": "stream",
          "name": "stdout",
          "text": [
            "Accuracy : 97.44 %\n",
            "Anyway this model can't be trusted because the data is not balance for use in modeling.\n"
          ]
        },
        {
          "output_type": "stream",
          "name": "stderr",
          "text": [
            "<ipython-input-222-6cc312733678>:3: FutureWarning: The default value of regex will change from True to False in a future version.\n",
            "  df['Message'] = df['Message'].str.replace('[^\\w\\s]','')\n"
          ]
        }
      ]
    },
    {
      "cell_type": "markdown",
      "source": [
        "### 7. Weekly and monthly data(trend)"
      ],
      "metadata": {
        "id": "-fvgg8mDcu-0"
      }
    },
    {
      "cell_type": "code",
      "source": [
        "#post shares\n",
        "df = data[['Created date','Post shares']][data['Name (Profile)'] == 'Garena Free Fire']\n",
        "df1 = data[['Created date','Post shares']][data['Name (Profile)'] == 'PUBG: BATTLEGROUNDS']\n",
        "\n",
        "monthly_data = df.set_index('Created date').resample('M').mean()\n",
        "weekly_data = df.set_index('Created date').resample('W').mean()\n",
        "\n",
        "monthly_data1 = df1.set_index('Created date').resample('M').mean()\n",
        "weekly_data1 = df1.set_index('Created date').resample('W').mean()\n",
        "\n",
        "# Plot the data using matplotlib\n",
        "#freefire\n",
        "plt.plot(monthly_data, label='Monthly of Free Fire')\n",
        "plt.plot(weekly_data, label='Weekly of Free Fire')\n",
        "#pubg\n",
        "plt.plot(monthly_data1, label='Monthly of PUBG')\n",
        "plt.plot(weekly_data1, label='Weekly of PUBG')\n",
        "\n",
        "# Add labels and legend to the plot\n",
        "plt.title(\"Posts shares and Times\")\n",
        "plt.xlabel('Time')\n",
        "plt.ylabel('Posts Shares')\n",
        "plt.xticks(rotation=45)\n",
        "plt.legend(loc='best')\n",
        "\n",
        "# Show the plot\n",
        "plt.show()\n",
        "#========================================================================================\n",
        "#Likes\n",
        "df = data[['Created date','Likes']][data['Name (Profile)'] == 'Garena Free Fire']\n",
        "df1 = data[['Created date','Likes']][data['Name (Profile)'] == 'PUBG: BATTLEGROUNDS']\n",
        "\n",
        "monthly_data = df.set_index('Created date').resample('M').mean()\n",
        "weekly_data = df.set_index('Created date').resample('W').mean()\n",
        "\n",
        "monthly_data1 = df1.set_index('Created date').resample('M').mean()\n",
        "weekly_data1 = df1.set_index('Created date').resample('W').mean()\n",
        "\n",
        "# Plot the data using matplotlib\n",
        "#freefire\n",
        "plt.plot(monthly_data, label='Monthly of Free Fire')\n",
        "plt.plot(weekly_data, label='Weekly of Free Fire')\n",
        "#pubg\n",
        "plt.plot(monthly_data1, label='Monthly of PUBG')\n",
        "plt.plot(weekly_data1, label='Weekly of PUBG')\n",
        "\n",
        "# Add labels and legend to the plot\n",
        "plt.title(\"Likes and Times\")\n",
        "plt.xlabel('Time')\n",
        "plt.ylabel('Likes')\n",
        "plt.xticks(rotation=45)\n",
        "plt.legend(loc='best')\n",
        "\n",
        "# Show the plot\n",
        "plt.show()\n"
      ],
      "metadata": {
        "colab": {
          "base_uri": "https://localhost:8080/",
          "height": 651
        },
        "id": "kFjVt8WYconO",
        "outputId": "fde50f88-6eb4-419d-f383-50c1d39aecb4"
      },
      "execution_count": 236,
      "outputs": [
        {
          "output_type": "display_data",
          "data": {
            "text/plain": [
              "<Figure size 432x288 with 1 Axes>"
            ],
            "image/png": "[encoded data removed]"
          },
          "metadata": {
            "needs_background": "light"
          }
        },
        {
          "output_type": "display_data",
          "data": {
            "text/plain": [
              "<Figure size 432x288 with 1 Axes>"
            ],
            "image/png": "[encoded data removed]"
          },
          "metadata": {
            "needs_background": "light"
          }
        }
      ]
    }
  ]
}